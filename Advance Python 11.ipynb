{
 "cells": [
  {
   "cell_type": "code",
   "execution_count": null,
   "id": "d8dbe2cc",
   "metadata": {},
   "outputs": [],
   "source": [
    "Q1. What is the concept of a metaclass?"
   ]
  },
  {
   "cell_type": "code",
   "execution_count": null,
   "id": "841a5e85",
   "metadata": {},
   "outputs": [],
   "source": [
    "Metaclass in Python is a class of a class that defines how a class behaves. A class is itself a instance of \n",
    "Metaclass, and any Instance of Class in Python is an Instance of type metaclass. E.g. Type of of int, str, float, \n",
    "list, tuple and many more is of metaclass type."
   ]
  },
  {
   "cell_type": "code",
   "execution_count": null,
   "id": "82d2f2a7",
   "metadata": {},
   "outputs": [],
   "source": [
    "Q2. What is the best way to declare a class's metaclass?"
   ]
  },
  {
   "cell_type": "code",
   "execution_count": null,
   "id": "5fc6015b",
   "metadata": {},
   "outputs": [],
   "source": [
    " A way to declare a class’ metaclass is by using metaclass keyword in class definition."
   ]
  },
  {
   "cell_type": "code",
   "execution_count": 1,
   "id": "1140c6dd",
   "metadata": {},
   "outputs": [
    {
     "name": "stdout",
     "output_type": "stream",
     "text": [
      "<class 'type'>\n",
      "<class '__main__.meta'>\n"
     ]
    }
   ],
   "source": [
    "class meta(type):\n",
    "    pass\n",
    "class class_meta(metaclass=meta):\n",
    "    pass\n",
    "print(type(meta))\n",
    "print(type(class_meta))"
   ]
  },
  {
   "cell_type": "code",
   "execution_count": null,
   "id": "514ece41",
   "metadata": {},
   "outputs": [],
   "source": [
    "Q3. How do class decorators overlap with metaclasses for handling classes ?"
   ]
  },
  {
   "cell_type": "code",
   "execution_count": null,
   "id": "424d05d2",
   "metadata": {},
   "outputs": [],
   "source": [
    "Anything you can do with a class decorator, you can of course do with a custom metaclasses (just apply the \n",
    "functionality of the \"decorator function\", i.e., the one that takes a class object and modifies it, in the course of\n",
    "the metaclass's __new__ or __init__ that make the class object)."
   ]
  },
  {
   "cell_type": "code",
   "execution_count": null,
   "id": "32daa70c",
   "metadata": {},
   "outputs": [],
   "source": [
    "Q4. How do class decorators overlap with metaclasses for handling instances?"
   ]
  },
  {
   "cell_type": "code",
   "execution_count": null,
   "id": "9d4acdaf",
   "metadata": {},
   "outputs": [],
   "source": [
    "Anything you can do with a class decorator, you can of course do with a custom metaclass (just apply the functionality \n",
    "of the \"decorator function\", i.e., the one that takes a class object and modifies it, in the course of the metaclass's \n",
    "__new__ or __init__ that make the class object)."
   ]
  }
 ],
 "metadata": {
  "kernelspec": {
   "display_name": "Python 3 (ipykernel)",
   "language": "python",
   "name": "python3"
  },
  "language_info": {
   "codemirror_mode": {
    "name": "ipython",
    "version": 3
   },
   "file_extension": ".py",
   "mimetype": "text/x-python",
   "name": "python",
   "nbconvert_exporter": "python",
   "pygments_lexer": "ipython3",
   "version": "3.9.12"
  }
 },
 "nbformat": 4,
 "nbformat_minor": 5
}
